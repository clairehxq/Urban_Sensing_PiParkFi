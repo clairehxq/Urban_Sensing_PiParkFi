{
 "cells": [
  {
   "cell_type": "code",
   "execution_count": 1,
   "metadata": {
    "collapsed": true
   },
   "outputs": [],
   "source": [
    "import pandas as pd\n",
    "from itertools import islice"
   ]
  },
  {
   "cell_type": "code",
   "execution_count": 34,
   "metadata": {
    "collapsed": false
   },
   "outputs": [],
   "source": [
    "source = 'data/820Metrotech_test.txt'\n",
    "clients = []\n",
    "with open(source, 'r') as f:\n",
    "    for i, client in enumerate(f):\n",
    "        if 'Client' in client:\n",
    "            client = client.replace(':',';',1)\n",
    "            for j in range(i, i+3):\n",
    "                n = f.next()\n",
    "                if 'First' in n:\n",
    "                    F = n\n",
    "                if 'Last' in n:\n",
    "                    L = n\n",
    "                    \n",
    "                j+= 1\n",
    "               \n",
    "            clients.append(client+';'+F+';'+L)\n",
    "            #print n"
   ]
  },
  {
   "cell_type": "code",
   "execution_count": 35,
   "metadata": {
    "collapsed": false
   },
   "outputs": [],
   "source": [
    "df = pd.DataFrame(columns=['client', 'MAC','first','last'])"
   ]
  },
  {
   "cell_type": "code",
   "execution_count": 36,
   "metadata": {
    "collapsed": false
   },
   "outputs": [],
   "source": [
    "## Add Clients to dataframe\n",
    "for client in clients:\n",
    "    df = df.append(pd.Series(client.split(';'), index=['client','MAC','first','last']), ignore_index=True)"
   ]
  },
  {
   "cell_type": "code",
   "execution_count": 37,
   "metadata": {
    "collapsed": false
   },
   "outputs": [
    {
     "data": {
      "text/html": [
       "<div>\n",
       "<table border=\"1\" class=\"dataframe\">\n",
       "  <thead>\n",
       "    <tr style=\"text-align: right;\">\n",
       "      <th></th>\n",
       "      <th>client</th>\n",
       "      <th>MAC</th>\n",
       "      <th>first</th>\n",
       "      <th>last</th>\n",
       "    </tr>\n",
       "  </thead>\n",
       "  <tbody>\n",
       "    <tr>\n",
       "      <th>0</th>\n",
       "      <td>Client 1</td>\n",
       "      <td>MAC 00:00:00:00:00:00\\n</td>\n",
       "      <td>First      : Tue Apr 18 18:28:36 2017\\n</td>\n",
       "      <td>Last       : Tue Apr 18 19:48:04 2017\\n</td>\n",
       "    </tr>\n",
       "    <tr>\n",
       "      <th>1</th>\n",
       "      <td>Client 1</td>\n",
       "      <td>MAC B0:70:2D:7E:C5:53\\n</td>\n",
       "      <td>First      : Tue Apr 18 18:42:15 2017\\n</td>\n",
       "      <td>Last       : Tue Apr 18 18:42:45 2017\\n</td>\n",
       "    </tr>\n",
       "    <tr>\n",
       "      <th>2</th>\n",
       "      <td>Client 1</td>\n",
       "      <td>MAC 00:03:7F:00:00:00\\n</td>\n",
       "      <td>First      : Tue Apr 18 18:31:50 2017\\n</td>\n",
       "      <td>Last       : Tue Apr 18 18:31:50 2017\\n</td>\n",
       "    </tr>\n",
       "    <tr>\n",
       "      <th>3</th>\n",
       "      <td>Client 1</td>\n",
       "      <td>MAC 00:04:20:F3:E1:10\\n</td>\n",
       "      <td>First      : Tue Apr 18 19:22:24 2017\\n</td>\n",
       "      <td>Last       : Tue Apr 18 19:22:24 2017\\n</td>\n",
       "    </tr>\n",
       "    <tr>\n",
       "      <th>4</th>\n",
       "      <td>Client 1</td>\n",
       "      <td>MAC 00:04:4B:2F:66:A2\\n</td>\n",
       "      <td>First      : Tue Apr 18 18:31:24 2017\\n</td>\n",
       "      <td>Last       : Tue Apr 18 19:46:17 2017\\n</td>\n",
       "    </tr>\n",
       "    <tr>\n",
       "      <th>5</th>\n",
       "      <td>Client 1</td>\n",
       "      <td>MAC 00:0A:E2:16:BC:2A\\n</td>\n",
       "      <td>First      : Tue Apr 18 18:28:47 2017\\n</td>\n",
       "      <td>Last       : Tue Apr 18 19:46:58 2017\\n</td>\n",
       "    </tr>\n",
       "    <tr>\n",
       "      <th>6</th>\n",
       "      <td>Client 1</td>\n",
       "      <td>MAC 00:0A:F5:01:B9:D4\\n</td>\n",
       "      <td>First      : Tue Apr 18 19:11:47 2017\\n</td>\n",
       "      <td>Last       : Tue Apr 18 19:11:47 2017\\n</td>\n",
       "    </tr>\n",
       "    <tr>\n",
       "      <th>7</th>\n",
       "      <td>Client 1</td>\n",
       "      <td>MAC 00:11:D9:15:73:6C\\n</td>\n",
       "      <td>First      : Tue Apr 18 19:10:49 2017\\n</td>\n",
       "      <td>Last       : Tue Apr 18 19:46:38 2017\\n</td>\n",
       "    </tr>\n",
       "    <tr>\n",
       "      <th>8</th>\n",
       "      <td>Client 1</td>\n",
       "      <td>MAC 00:17:F2:96:6B:6C\\n</td>\n",
       "      <td>First      : Tue Apr 18 18:58:31 2017\\n</td>\n",
       "      <td>Last       : Tue Apr 18 18:58:31 2017\\n</td>\n",
       "    </tr>\n",
       "    <tr>\n",
       "      <th>9</th>\n",
       "      <td>Client 1</td>\n",
       "      <td>MAC 00:19:9D:DE:83:C8\\n</td>\n",
       "      <td>First      : Tue Apr 18 19:23:53 2017\\n</td>\n",
       "      <td>Last       : Tue Apr 18 19:25:10 2017\\n</td>\n",
       "    </tr>\n",
       "  </tbody>\n",
       "</table>\n",
       "</div>"
      ],
      "text/plain": [
       "      client                       MAC  \\\n",
       "0   Client 1   MAC 00:00:00:00:00:00\\n   \n",
       "1   Client 1   MAC B0:70:2D:7E:C5:53\\n   \n",
       "2   Client 1   MAC 00:03:7F:00:00:00\\n   \n",
       "3   Client 1   MAC 00:04:20:F3:E1:10\\n   \n",
       "4   Client 1   MAC 00:04:4B:2F:66:A2\\n   \n",
       "5   Client 1   MAC 00:0A:E2:16:BC:2A\\n   \n",
       "6   Client 1   MAC 00:0A:F5:01:B9:D4\\n   \n",
       "7   Client 1   MAC 00:11:D9:15:73:6C\\n   \n",
       "8   Client 1   MAC 00:17:F2:96:6B:6C\\n   \n",
       "9   Client 1   MAC 00:19:9D:DE:83:C8\\n   \n",
       "\n",
       "                                       first  \\\n",
       "0    First      : Tue Apr 18 18:28:36 2017\\n   \n",
       "1    First      : Tue Apr 18 18:42:15 2017\\n   \n",
       "2    First      : Tue Apr 18 18:31:50 2017\\n   \n",
       "3    First      : Tue Apr 18 19:22:24 2017\\n   \n",
       "4    First      : Tue Apr 18 18:31:24 2017\\n   \n",
       "5    First      : Tue Apr 18 18:28:47 2017\\n   \n",
       "6    First      : Tue Apr 18 19:11:47 2017\\n   \n",
       "7    First      : Tue Apr 18 19:10:49 2017\\n   \n",
       "8    First      : Tue Apr 18 18:58:31 2017\\n   \n",
       "9    First      : Tue Apr 18 19:23:53 2017\\n   \n",
       "\n",
       "                                        last  \n",
       "0    Last       : Tue Apr 18 19:48:04 2017\\n  \n",
       "1    Last       : Tue Apr 18 18:42:45 2017\\n  \n",
       "2    Last       : Tue Apr 18 18:31:50 2017\\n  \n",
       "3    Last       : Tue Apr 18 19:22:24 2017\\n  \n",
       "4    Last       : Tue Apr 18 19:46:17 2017\\n  \n",
       "5    Last       : Tue Apr 18 19:46:58 2017\\n  \n",
       "6    Last       : Tue Apr 18 19:11:47 2017\\n  \n",
       "7    Last       : Tue Apr 18 19:46:38 2017\\n  \n",
       "8    Last       : Tue Apr 18 18:58:31 2017\\n  \n",
       "9    Last       : Tue Apr 18 19:25:10 2017\\n  "
      ]
     },
     "execution_count": 37,
     "metadata": {},
     "output_type": "execute_result"
    }
   ],
   "source": [
    "df.head(10)"
   ]
  },
  {
   "cell_type": "code",
   "execution_count": 38,
   "metadata": {
    "collapsed": false
   },
   "outputs": [],
   "source": [
    "## Clean up MACA Address column\n",
    "df.MAC = df.MAC.str.replace('MAC ' , '')\n",
    "df.MAC = df.MAC.str.replace(r'\\n','')\n",
    "df['first'] = df['first'].str.replace(' First      : ' , '')\n",
    "df['first'] = df['first'].str.replace(r'\\n','')\n",
    "df['last'] = df['last'].str.replace(' Last       : ' , '')\n",
    "df['last'] = df['last'].str.replace(r'\\n','')"
   ]
  },
  {
   "cell_type": "code",
   "execution_count": 39,
   "metadata": {
    "collapsed": false
   },
   "outputs": [
    {
     "data": {
      "text/plain": [
       "0     00:00:00:00:00:00\n",
       "1     B0:70:2D:7E:C5:53\n",
       "2     00:03:7F:00:00:00\n",
       "3     00:04:20:F3:E1:10\n",
       "4     00:04:4B:2F:66:A2\n",
       "Name: MAC, dtype: object"
      ]
     },
     "execution_count": 39,
     "metadata": {},
     "output_type": "execute_result"
    }
   ],
   "source": [
    "df.MAC.head()"
   ]
  },
  {
   "cell_type": "code",
   "execution_count": 40,
   "metadata": {
    "collapsed": false
   },
   "outputs": [
    {
     "data": {
      "text/plain": [
       "0     Tue Apr 18 19:48:04 2017\n",
       "1     Tue Apr 18 18:42:45 2017\n",
       "2     Tue Apr 18 18:31:50 2017\n",
       "3     Tue Apr 18 19:22:24 2017\n",
       "4     Tue Apr 18 19:46:17 2017\n",
       "Name: last, dtype: object"
      ]
     },
     "execution_count": 40,
     "metadata": {},
     "output_type": "execute_result"
    }
   ],
   "source": [
    "df['last'].head()"
   ]
  },
  {
   "cell_type": "code",
   "execution_count": 41,
   "metadata": {
    "collapsed": false
   },
   "outputs": [
    {
     "data": {
      "text/plain": [
       "1012"
      ]
     },
     "execution_count": 41,
     "metadata": {},
     "output_type": "execute_result"
    }
   ],
   "source": [
    "num_first = df['first'].unique()\n",
    "len(num_first)"
   ]
  },
  {
   "cell_type": "code",
   "execution_count": 42,
   "metadata": {
    "collapsed": false
   },
   "outputs": [
    {
     "data": {
      "text/plain": [
       "1033"
      ]
     },
     "execution_count": 42,
     "metadata": {},
     "output_type": "execute_result"
    }
   ],
   "source": [
    "num_last = df['last'].unique()\n",
    "# df['last'].value_counts()\n",
    "len(num_last)"
   ]
  },
  {
   "cell_type": "code",
   "execution_count": 43,
   "metadata": {
    "collapsed": false
   },
   "outputs": [
    {
     "data": {
      "text/plain": [
       "1162"
      ]
     },
     "execution_count": 43,
     "metadata": {},
     "output_type": "execute_result"
    }
   ],
   "source": [
    "## Get the number of Unique MAC addresses\n",
    "num_macs = df.MAC.unique()\n",
    "len(num_macs)"
   ]
  },
  {
   "cell_type": "code",
   "execution_count": 44,
   "metadata": {
    "collapsed": false
   },
   "outputs": [
    {
     "data": {
      "text/plain": [
       " 78:4F:43:75:0E:7C    9\n",
       " 58:BF:EA:BF:1E:40    8\n",
       " 40:40:A7:93:77:64    4\n",
       " 68:64:4B:D8:DA:42    4\n",
       " E8:2A:EA:46:21:C0    3\n",
       " A0:99:9B:04:52:8D    3\n",
       " 70:10:5C:B1:E1:80    3\n",
       " F8:BB:BF:80:29:BC    3\n",
       " 48:45:20:C4:42:D5    3\n",
       " 30:E4:DB:39:47:2F    3\n",
       " 90:C7:D8:8A:69:C8    3\n",
       " 10:AE:60:6D:FF:7F    3\n",
       " DC:0C:5C:94:B2:E2    3\n",
       " A0:99:9B:41:65:AD    3\n",
       " 2C:20:0B:B8:59:8F    3\n",
       " 5C:AF:06:82:ED:F6    3\n",
       " 2C:F0:A2:1E:D0:34    3\n",
       " 00:00:5E:00:01:53    3\n",
       " 64:9A:BE:E3:43:AE    3\n",
       " 14:22:DB:26:B0:0E    3\n",
       " 58:1F:AA:43:F0:9A    3\n",
       " 14:22:DB:16:37:2E    3\n",
       " 78:CA:39:B7:17:E8    2\n",
       " 78:9F:70:A2:36:E9    2\n",
       " 18:65:90:12:9A:57    2\n",
       " 8C:2D:AA:35:E6:FB    2\n",
       " 8C:2D:AA:35:A9:8F    2\n",
       " 98:5F:D3:51:94:D8    2\n",
       " 2C:33:61:9E:25:5C    2\n",
       " 78:F8:82:B8:91:AA    2\n",
       "                     ..\n",
       " 9E:C6:3B:08:76:27    1\n",
       " 60:6D:C7:C6:0E:2F    1\n",
       " DA:A1:19:B1:C7:B8    1\n",
       " B4:75:0E:80:B8:9C    1\n",
       " 52:21:6C:45:A5:CF    1\n",
       " DA:A1:19:50:49:E1    1\n",
       " B6:F7:ED:D0:9B:AE    1\n",
       " DA:A1:19:EA:D3:66    1\n",
       " 6A:69:8B:32:55:6F    1\n",
       " AE:9B:87:F9:9E:61    1\n",
       " A0:D7:95:05:9C:07    1\n",
       " A0:99:9B:13:2D:51    1\n",
       " AC:37:43:A8:9D:F5    1\n",
       " 8A:9A:87:70:EC:1B    1\n",
       " DA:A1:19:32:FB:53    1\n",
       " 2A:A1:83:E1:1B:65    1\n",
       " 12:AC:CC:0A:9D:21    1\n",
       " 40:B8:37:C2:3A:32    1\n",
       " B4:E1:C4:D7:1E:3C    1\n",
       " 60:E3:AC:F5:A1:84    1\n",
       " D6:B1:BE:16:5F:46    1\n",
       " F0:F6:1C:E5:8A:20    1\n",
       " 78:31:C1:C7:12:76    1\n",
       " AC:37:43:A2:2B:38    1\n",
       " D8:96:95:40:B5:E3    1\n",
       " 78:E7:D1:79:1A:0A    1\n",
       " 00:1F:90:BB:6B:B8    1\n",
       " DA:A1:19:20:30:6D    1\n",
       " C8:E0:EB:31:56:4B    1\n",
       " 00:26:62:BF:D7:9B    1\n",
       "Name: MAC, dtype: int64"
      ]
     },
     "execution_count": 44,
     "metadata": {},
     "output_type": "execute_result"
    }
   ],
   "source": [
    "## MAC addresses and the number of times they appear in the log\n",
    "df.MAC.value_counts()"
   ]
  },
  {
   "cell_type": "code",
   "execution_count": null,
   "metadata": {
    "collapsed": true
   },
   "outputs": [],
   "source": []
  },
  {
   "cell_type": "code",
   "execution_count": null,
   "metadata": {
    "collapsed": true
   },
   "outputs": [],
   "source": []
  }
 ],
 "metadata": {
  "anaconda-cloud": {},
  "kernelspec": {
   "display_name": "Python [Root]",
   "language": "python",
   "name": "Python [Root]"
  },
  "language_info": {
   "codemirror_mode": {
    "name": "ipython",
    "version": 2
   },
   "file_extension": ".py",
   "mimetype": "text/x-python",
   "name": "python",
   "nbconvert_exporter": "python",
   "pygments_lexer": "ipython2",
   "version": "2.7.13"
  }
 },
 "nbformat": 4,
 "nbformat_minor": 0
}
