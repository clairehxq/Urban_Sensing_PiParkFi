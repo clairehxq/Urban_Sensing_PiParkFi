{
 "cells": [
  {
   "cell_type": "code",
   "execution_count": 36,
   "metadata": {
    "collapsed": false
   },
   "outputs": [
    {
     "name": "stdout",
     "output_type": "stream",
     "text": [
      "Populating the interactive namespace from numpy and matplotlib\n"
     ]
    },
    {
     "name": "stderr",
     "output_type": "stream",
     "text": [
      "WARNING: pylab import has clobbered these variables: ['f']\n",
      "`%matplotlib` prevents importing * from pylab and numpy\n"
     ]
    }
   ],
   "source": [
    "import pandas as pd\n",
    "from itertools import islice\n",
    "import datetime\n",
    "import seaborn\n",
    "\n",
    "%pylab inline"
   ]
  },
  {
   "cell_type": "code",
   "execution_count": 71,
   "metadata": {
    "collapsed": false
   },
   "outputs": [],
   "source": [
    "# reading in Client with Probe type as Client1\n",
    "#source = 'data/820Metrotech_test.txt'\n",
    "source1 = 'data/Kismet-20170421-14-10-27-1.txt'\n",
    "clients1 = []\n",
    "with open(source1, 'r') as f:\n",
    "    for i, client in enumerate(f):\n",
    "        if 'Client' in client:\n",
    "            client = client.replace(':',';',1)\n",
    "            for j in range(i, i+8):\n",
    "                n = f.next()\n",
    "                if 'First' in n:\n",
    "                    F = n\n",
    "                if 'Last' in n:\n",
    "                    L = n\n",
    "                if 'Probe' in n:\n",
    "                    P = n\n",
    "                    \n",
    "                j+= 1\n",
    "               \n",
    "            clients1.append(client+';'+F+';'+L +';'+ P)\n",
    "            #print n"
   ]
  },
  {
   "cell_type": "code",
   "execution_count": 73,
   "metadata": {
    "collapsed": false,
    "scrolled": true
   },
   "outputs": [
    {
     "data": {
      "text/plain": [
       "1878"
      ]
     },
     "execution_count": 73,
     "metadata": {},
     "output_type": "execute_result"
    }
   ],
   "source": [
    "len(clients1)"
   ]
  },
  {
   "cell_type": "code",
   "execution_count": null,
   "metadata": {
    "collapsed": true
   },
   "outputs": [],
   "source": [
    "# read in client\n",
    "#source = 'data/820Metrotech_test.txt'\n",
    "\n",
    "clients = []\n",
    "with open(source1, 'r') as f:\n",
    "    for i, client in enumerate(f):\n",
    "        if 'client' in client:\n",
    "            client = client.replace(':',';',1)\n",
    "            for j in range(i, i+3):\n",
    "                n = f.next()\n",
    "                if 'First' in n:\n",
    "                    F = n\n",
    "                if 'Last' in n:\n",
    "                    L = n\n",
    "        \n",
    "                j+= 1\n",
    "               \n",
    "            clients.append(client+';'+F+';'+L)\n",
    "            #print n"
   ]
  },
  {
   "cell_type": "code",
   "execution_count": 100,
   "metadata": {
    "collapsed": false
   },
   "outputs": [
    {
     "name": "stdout",
     "output_type": "stream",
     "text": [
      "21\n"
     ]
    }
   ],
   "source": [
    "# check multi client records\n",
    "client2 = []\n",
    "with open(source1, 'r') as f:\n",
    "    num = 0\n",
    "    for i, client in enumerate(f):\n",
    "        if 'Client 6' in client:\n",
    "            num += 1\n",
    "    print num"
   ]
  },
  {
   "cell_type": "code",
   "execution_count": 101,
   "metadata": {
    "collapsed": false
   },
   "outputs": [],
   "source": [
    "df = pd.DataFrame(columns=['client', 'MAC','first','last', 'type'])"
   ]
  },
  {
   "cell_type": "code",
   "execution_count": 102,
   "metadata": {
    "collapsed": false
   },
   "outputs": [],
   "source": [
    "## Add Clients to dataframe\n",
    "for client in clients1:\n",
    "    df = df.append(pd.Series(client.split(';'), index=['client','MAC','first','last', 'type']), ignore_index=True)"
   ]
  },
  {
   "cell_type": "code",
   "execution_count": 103,
   "metadata": {
    "collapsed": false
   },
   "outputs": [
    {
     "data": {
      "text/plain": [
       "(1878, 5)"
      ]
     },
     "execution_count": 103,
     "metadata": {},
     "output_type": "execute_result"
    }
   ],
   "source": [
    "df.shape"
   ]
  },
  {
   "cell_type": "code",
   "execution_count": 84,
   "metadata": {
    "collapsed": false,
    "scrolled": false
   },
   "outputs": [
    {
     "data": {
      "text/html": [
       "<div>\n",
       "<table border=\"1\" class=\"dataframe\">\n",
       "  <thead>\n",
       "    <tr style=\"text-align: right;\">\n",
       "      <th></th>\n",
       "      <th>client</th>\n",
       "      <th>MAC</th>\n",
       "      <th>first</th>\n",
       "      <th>last</th>\n",
       "      <th>type</th>\n",
       "    </tr>\n",
       "  </thead>\n",
       "  <tbody>\n",
       "    <tr>\n",
       "      <th>0</th>\n",
       "      <td>Client 1</td>\n",
       "      <td>MAC 00:00:00:00:00:00\\n</td>\n",
       "      <td>First      : Fri Apr 21 14:10:31 2017\\n</td>\n",
       "      <td>Last       : Fri Apr 21 15:10:24 2017\\n</td>\n",
       "      <td>Type       : Probe Request\\n</td>\n",
       "    </tr>\n",
       "    <tr>\n",
       "      <th>1</th>\n",
       "      <td>Client 1</td>\n",
       "      <td>MAC 00:03:16:00:9A:2E\\n</td>\n",
       "      <td>First      : Fri Apr 21 15:05:45 2017\\n</td>\n",
       "      <td>Last       : Fri Apr 21 15:05:45 2017\\n</td>\n",
       "      <td>Type       : Probe Request\\n</td>\n",
       "    </tr>\n",
       "    <tr>\n",
       "      <th>2</th>\n",
       "      <td>Client 1</td>\n",
       "      <td>MAC 00:03:7F:00:00:00\\n</td>\n",
       "      <td>First      : Fri Apr 21 14:25:03 2017\\n</td>\n",
       "      <td>Last       : Fri Apr 21 14:25:03 2017\\n</td>\n",
       "      <td>Type       : Probe Request\\n</td>\n",
       "    </tr>\n",
       "    <tr>\n",
       "      <th>3</th>\n",
       "      <td>Client 1</td>\n",
       "      <td>MAC 00:04:20:EB:3F:B5\\n</td>\n",
       "      <td>First      : Fri Apr 21 14:37:45 2017\\n</td>\n",
       "      <td>Last       : Fri Apr 21 14:47:52 2017\\n</td>\n",
       "      <td>Type       : Probe Request\\n</td>\n",
       "    </tr>\n",
       "    <tr>\n",
       "      <th>4</th>\n",
       "      <td>Client 1</td>\n",
       "      <td>MAC 00:06:66:20:62:2E\\n</td>\n",
       "      <td>First      : Fri Apr 21 15:07:19 2017\\n</td>\n",
       "      <td>Last       : Fri Apr 21 15:07:19 2017\\n</td>\n",
       "      <td>Type       : Probe Request\\n</td>\n",
       "    </tr>\n",
       "    <tr>\n",
       "      <th>5</th>\n",
       "      <td>Client 1</td>\n",
       "      <td>MAC 00:06:66:20:A1:00\\n</td>\n",
       "      <td>First      : Fri Apr 21 14:47:02 2017\\n</td>\n",
       "      <td>Last       : Fri Apr 21 14:47:02 2017\\n</td>\n",
       "      <td>Type       : Probe Request\\n</td>\n",
       "    </tr>\n",
       "    <tr>\n",
       "      <th>6</th>\n",
       "      <td>Client 1</td>\n",
       "      <td>MAC 00:06:66:22:C5:49\\n</td>\n",
       "      <td>First      : Fri Apr 21 14:21:59 2017\\n</td>\n",
       "      <td>Last       : Fri Apr 21 14:22:06 2017\\n</td>\n",
       "      <td>Type       : Probe Request\\n</td>\n",
       "    </tr>\n",
       "    <tr>\n",
       "      <th>7</th>\n",
       "      <td>Client 1</td>\n",
       "      <td>MAC 00:06:66:22:CE:43\\n</td>\n",
       "      <td>First      : Fri Apr 21 14:51:02 2017\\n</td>\n",
       "      <td>Last       : Fri Apr 21 14:51:02 2017\\n</td>\n",
       "      <td>Type       : Probe Request\\n</td>\n",
       "    </tr>\n",
       "    <tr>\n",
       "      <th>8</th>\n",
       "      <td>Client 1</td>\n",
       "      <td>MAC 00:0A:E2:16:A5:A0\\n</td>\n",
       "      <td>First      : Fri Apr 21 14:10:46 2017\\n</td>\n",
       "      <td>Last       : Fri Apr 21 15:09:27 2017\\n</td>\n",
       "      <td>Type       : Probe Request\\n</td>\n",
       "    </tr>\n",
       "    <tr>\n",
       "      <th>9</th>\n",
       "      <td>Client 1</td>\n",
       "      <td>MAC 00:0E:3B:7A:01:88\\n</td>\n",
       "      <td>First      : Fri Apr 21 14:31:45 2017\\n</td>\n",
       "      <td>Last       : Fri Apr 21 14:57:46 2017\\n</td>\n",
       "      <td>Type       : Probe Request\\n</td>\n",
       "    </tr>\n",
       "  </tbody>\n",
       "</table>\n",
       "</div>"
      ],
      "text/plain": [
       "      client                       MAC  \\\n",
       "0   Client 1   MAC 00:00:00:00:00:00\\n   \n",
       "1   Client 1   MAC 00:03:16:00:9A:2E\\n   \n",
       "2   Client 1   MAC 00:03:7F:00:00:00\\n   \n",
       "3   Client 1   MAC 00:04:20:EB:3F:B5\\n   \n",
       "4   Client 1   MAC 00:06:66:20:62:2E\\n   \n",
       "5   Client 1   MAC 00:06:66:20:A1:00\\n   \n",
       "6   Client 1   MAC 00:06:66:22:C5:49\\n   \n",
       "7   Client 1   MAC 00:06:66:22:CE:43\\n   \n",
       "8   Client 1   MAC 00:0A:E2:16:A5:A0\\n   \n",
       "9   Client 1   MAC 00:0E:3B:7A:01:88\\n   \n",
       "\n",
       "                                       first  \\\n",
       "0    First      : Fri Apr 21 14:10:31 2017\\n   \n",
       "1    First      : Fri Apr 21 15:05:45 2017\\n   \n",
       "2    First      : Fri Apr 21 14:25:03 2017\\n   \n",
       "3    First      : Fri Apr 21 14:37:45 2017\\n   \n",
       "4    First      : Fri Apr 21 15:07:19 2017\\n   \n",
       "5    First      : Fri Apr 21 14:47:02 2017\\n   \n",
       "6    First      : Fri Apr 21 14:21:59 2017\\n   \n",
       "7    First      : Fri Apr 21 14:51:02 2017\\n   \n",
       "8    First      : Fri Apr 21 14:10:46 2017\\n   \n",
       "9    First      : Fri Apr 21 14:31:45 2017\\n   \n",
       "\n",
       "                                        last                              type  \n",
       "0    Last       : Fri Apr 21 15:10:24 2017\\n      Type       : Probe Request\\n  \n",
       "1    Last       : Fri Apr 21 15:05:45 2017\\n      Type       : Probe Request\\n  \n",
       "2    Last       : Fri Apr 21 14:25:03 2017\\n      Type       : Probe Request\\n  \n",
       "3    Last       : Fri Apr 21 14:47:52 2017\\n      Type       : Probe Request\\n  \n",
       "4    Last       : Fri Apr 21 15:07:19 2017\\n      Type       : Probe Request\\n  \n",
       "5    Last       : Fri Apr 21 14:47:02 2017\\n      Type       : Probe Request\\n  \n",
       "6    Last       : Fri Apr 21 14:22:06 2017\\n      Type       : Probe Request\\n  \n",
       "7    Last       : Fri Apr 21 14:51:02 2017\\n      Type       : Probe Request\\n  \n",
       "8    Last       : Fri Apr 21 15:09:27 2017\\n      Type       : Probe Request\\n  \n",
       "9    Last       : Fri Apr 21 14:57:46 2017\\n      Type       : Probe Request\\n  "
      ]
     },
     "execution_count": 84,
     "metadata": {},
     "output_type": "execute_result"
    }
   ],
   "source": [
    "df.head(10)"
   ]
  },
  {
   "cell_type": "code",
   "execution_count": 108,
   "metadata": {
    "collapsed": false
   },
   "outputs": [],
   "source": [
    "## Clean up MACA Address column\n",
    "df.MAC = df.MAC.str.replace('MAC ' , '')\n",
    "df.MAC = df.MAC.str.replace(r'\\n','')\n",
    "df['first'] = df['first'].str.replace(' First      : ' , '')\n",
    "df['first'] = df['first'].str.replace(r'\\n','')\n",
    "df['last'] = df['last'].str.replace(' Last       : ' , '')\n",
    "df['last'] = df['last'].str.replace(r'\\n','')"
   ]
  },
  {
   "cell_type": "code",
   "execution_count": 109,
   "metadata": {
    "collapsed": false
   },
   "outputs": [],
   "source": [
    "def time(row):\n",
    "    \n",
    "    week, month, day, time, year = row[3].split(' ')[1:]\n",
    "    week1, month1, day1, time1, year1 = row[2].split(' ')[1:]\n",
    "    time = datetime.datetime.strptime(time, '%H:%M:%S')\n",
    "    time1 = datetime.datetime.strptime(time1, '%H:%M:%S')\n",
    "    \n",
    "\n",
    "    return time-time1"
   ]
  },
  {
   "cell_type": "code",
   "execution_count": 111,
   "metadata": {
    "collapsed": false,
    "scrolled": true
   },
   "outputs": [],
   "source": [
    "df['time_diff'] = df.apply(time, axis = 1)                            "
   ]
  },
  {
   "cell_type": "code",
   "execution_count": 112,
   "metadata": {
    "collapsed": false
   },
   "outputs": [
    {
     "data": {
      "text/plain": [
       "0     00:00:00:00:00:00\n",
       "1     00:03:16:00:9A:2E\n",
       "2     00:03:7F:00:00:00\n",
       "3     00:04:20:EB:3F:B5\n",
       "4     00:06:66:20:62:2E\n",
       "Name: MAC, dtype: object"
      ]
     },
     "execution_count": 112,
     "metadata": {},
     "output_type": "execute_result"
    }
   ],
   "source": [
    "df.MAC.head()"
   ]
  },
  {
   "cell_type": "code",
   "execution_count": 11,
   "metadata": {
    "collapsed": false
   },
   "outputs": [
    {
     "data": {
      "text/plain": [
       "0     Fri Apr 21 15:10:24 2017\n",
       "1     Fri Apr 21 15:05:45 2017\n",
       "2     Fri Apr 21 14:25:03 2017\n",
       "3     Fri Apr 21 14:47:52 2017\n",
       "4     Fri Apr 21 15:07:19 2017\n",
       "Name: last, dtype: object"
      ]
     },
     "execution_count": 11,
     "metadata": {},
     "output_type": "execute_result"
    }
   ],
   "source": [
    "df['last'].head()"
   ]
  },
  {
   "cell_type": "code",
   "execution_count": 113,
   "metadata": {
    "collapsed": false
   },
   "outputs": [
    {
     "data": {
      "text/plain": [
       "1280"
      ]
     },
     "execution_count": 113,
     "metadata": {},
     "output_type": "execute_result"
    }
   ],
   "source": [
    "num_first = df['first'].unique()\n",
    "len(num_first)"
   ]
  },
  {
   "cell_type": "code",
   "execution_count": 114,
   "metadata": {
    "collapsed": false
   },
   "outputs": [
    {
     "data": {
      "text/plain": [
       "1309"
      ]
     },
     "execution_count": 114,
     "metadata": {},
     "output_type": "execute_result"
    }
   ],
   "source": [
    "num_last = df['last'].unique()\n",
    "# df['last'].value_counts()\n",
    "len(num_last)"
   ]
  },
  {
   "cell_type": "code",
   "execution_count": 115,
   "metadata": {
    "collapsed": false
   },
   "outputs": [
    {
     "data": {
      "text/plain": [
       "1733"
      ]
     },
     "execution_count": 115,
     "metadata": {},
     "output_type": "execute_result"
    }
   ],
   "source": [
    "## Get the number of Unique MAC addresses\n",
    "num_macs = df.MAC.unique()\n",
    "len(num_macs)"
   ]
  },
  {
   "cell_type": "code",
   "execution_count": 116,
   "metadata": {
    "collapsed": true
   },
   "outputs": [
    {
     "data": {
      "text/plain": [
       " 44:03:A7:B2:7C:00    7\n",
       " 6C:20:56:6B:FE:20    6\n",
       " 44:03:A7:B2:7D:00    5\n",
       " 64:B0:A6:12:4E:BD    5\n",
       " 44:03:A7:BA:9D:00    5\n",
       " B8:E8:56:C0:06:66    4\n",
       " 7C:04:D0:74:3E:7E    4\n",
       " B0:89:00:90:85:E2    4\n",
       " 6C:41:6A:F6:2B:00    4\n",
       " 44:03:A7:F8:3C:00    4\n",
       " B8:44:D9:E1:E9:76    4\n",
       " 64:9A:BE:AD:6F:BF    4\n",
       " 74:81:14:CC:81:63    4\n",
       " EC:1F:72:15:F3:A5    3\n",
       " 38:48:4C:14:54:C3    3\n",
       " 5C:AF:06:93:B7:C1    3\n",
       " 2C:0E:3D:C9:4C:8C    3\n",
       " 2C:0E:3D:73:1E:EE    3\n",
       " 60:F4:45:B3:1D:CE    3\n",
       " AC:63:BE:20:54:EE    3\n",
       " A0:18:28:2D:8F:D9    3\n",
       " 2C:20:0B:03:F3:2A    3\n",
       " 60:F1:89:FC:C1:73    3\n",
       " D8:1D:72:86:F1:36    3\n",
       " 64:BC:0C:50:DC:AD    3\n",
       " 4C:74:BF:98:00:20    3\n",
       " 78:FD:94:93:F7:FD    3\n",
       " D0:25:98:B5:4A:0B    3\n",
       " 8C:8E:F2:9C:A9:51    3\n",
       " DC:85:DE:47:19:E8    2\n",
       "                     ..\n",
       " 00:00:0C:9F:F3:48    1\n",
       " F8:E4:FB:62:3B:01    1\n",
       " DA:A1:19:C0:28:ED    1\n",
       " 74:8D:08:6F:20:2D    1\n",
       " F8:95:C7:A0:C5:E9    1\n",
       " 66:11:16:77:74:CC    1\n",
       " 16:D7:05:3D:F7:64    1\n",
       " 74:3E:2B:28:C5:F8    1\n",
       " A0:04:60:CF:A3:A3    1\n",
       " DA:A1:19:26:30:60    1\n",
       " 98:6B:3D:DA:A0:20    1\n",
       " A2:DE:83:10:6A:46    1\n",
       " C0:BD:D1:5A:DC:E0    1\n",
       " DA:A1:19:94:9A:2C    1\n",
       " 00:00:0C:9F:F3:49    1\n",
       " AC:37:43:DD:63:37    1\n",
       " 62:A3:73:DB:B3:1F    1\n",
       " 3C:CE:73:F6:39:71    1\n",
       " 50:87:89:47:00:C1    1\n",
       " 3C:CE:73:F6:39:70    1\n",
       " 3C:CE:73:F6:39:73    1\n",
       " 3C:CE:73:F6:39:72    1\n",
       " 3C:CE:73:F6:39:75    1\n",
       " 62:9B:7E:E1:56:67    1\n",
       " C2:0C:90:5D:45:45    1\n",
       " 08:95:2A:19:5F:F3    1\n",
       " DA:A1:19:34:E8:69    1\n",
       " 60:6C:66:17:0E:F3    1\n",
       " 42:31:99:F6:88:C8    1\n",
       " DA:A1:19:49:3E:68    1\n",
       "Name: MAC, dtype: int64"
      ]
     },
     "execution_count": 116,
     "metadata": {},
     "output_type": "execute_result"
    }
   ],
   "source": [
    "## MAC addresses and the number of times they appear in the log\n",
    "df.MAC.value_counts()"
   ]
  },
  {
   "cell_type": "code",
   "execution_count": 117,
   "metadata": {
    "collapsed": false
   },
   "outputs": [
    {
     "data": {
      "text/plain": [
       "(903, 6)"
      ]
     },
     "execution_count": 117,
     "metadata": {},
     "output_type": "execute_result"
    }
   ],
   "source": [
    "df[df['first'] != df['last']].shape"
   ]
  },
  {
   "cell_type": "code",
   "execution_count": 118,
   "metadata": {
    "collapsed": false
   },
   "outputs": [
    {
     "data": {
      "text/plain": [
       "500"
      ]
     },
     "execution_count": 118,
     "metadata": {},
     "output_type": "execute_result"
    }
   ],
   "source": [
    "len(df.time_diff.unique())"
   ]
  },
  {
   "cell_type": "code",
   "execution_count": 119,
   "metadata": {
    "collapsed": false
   },
   "outputs": [
    {
     "data": {
      "text/plain": [
       "<matplotlib.axes._subplots.AxesSubplot at 0x120544950>"
      ]
     },
     "execution_count": 119,
     "metadata": {},
     "output_type": "execute_result"
    },
    {
     "data": {
      "image/png": "[encoded data removed]",
      "text/plain": [
       "<matplotlib.figure.Figure at 0x1205441d0>"
      ]
     },
     "metadata": {},
     "output_type": "display_data"
    }
   ],
   "source": [
    "gp = df.groupby('time_diff').size().reset_index()\n",
    "seaborn.barplot(x = 'time_diff', y = 0, data = gp)"
   ]
  },
  {
   "cell_type": "code",
   "execution_count": 149,
   "metadata": {
    "collapsed": false
   },
   "outputs": [
    {
     "data": {
      "text/plain": [
       "[3.756, 3.756, 3.756, 3.756, 3.756, 3.756, 3.756, 3.756, 3.756, 3.756]"
      ]
     },
     "execution_count": 149,
     "metadata": {},
     "output_type": "execute_result"
    }
   ],
   "source": [
    "m = gp[0].mean()\n",
    "import itertools\n",
    "[m] * 10"
   ]
  },
  {
   "cell_type": "code",
   "execution_count": 162,
   "metadata": {
    "collapsed": true
   },
   "outputs": [
    {
     "data": {
      "text/html": [
       "<div>\n",
       "<table border=\"1\" class=\"dataframe\">\n",
       "  <thead>\n",
       "    <tr style=\"text-align: right;\">\n",
       "      <th></th>\n",
       "      <th>time_diff</th>\n",
       "      <th>0</th>\n",
       "    </tr>\n",
       "  </thead>\n",
       "  <tbody>\n",
       "    <tr>\n",
       "      <th>0</th>\n",
       "      <td>00:00:00</td>\n",
       "      <td>975</td>\n",
       "    </tr>\n",
       "    <tr>\n",
       "      <th>1</th>\n",
       "      <td>00:00:01</td>\n",
       "      <td>87</td>\n",
       "    </tr>\n",
       "    <tr>\n",
       "      <th>2</th>\n",
       "      <td>00:00:02</td>\n",
       "      <td>7</td>\n",
       "    </tr>\n",
       "    <tr>\n",
       "      <th>3</th>\n",
       "      <td>00:00:03</td>\n",
       "      <td>6</td>\n",
       "    </tr>\n",
       "    <tr>\n",
       "      <th>4</th>\n",
       "      <td>00:00:04</td>\n",
       "      <td>8</td>\n",
       "    </tr>\n",
       "    <tr>\n",
       "      <th>5</th>\n",
       "      <td>00:00:05</td>\n",
       "      <td>13</td>\n",
       "    </tr>\n",
       "    <tr>\n",
       "      <th>6</th>\n",
       "      <td>00:00:06</td>\n",
       "      <td>15</td>\n",
       "    </tr>\n",
       "    <tr>\n",
       "      <th>7</th>\n",
       "      <td>00:00:07</td>\n",
       "      <td>12</td>\n",
       "    </tr>\n",
       "    <tr>\n",
       "      <th>8</th>\n",
       "      <td>00:00:08</td>\n",
       "      <td>4</td>\n",
       "    </tr>\n",
       "    <tr>\n",
       "      <th>9</th>\n",
       "      <td>00:00:09</td>\n",
       "      <td>1</td>\n",
       "    </tr>\n",
       "    <tr>\n",
       "      <th>10</th>\n",
       "      <td>00:00:10</td>\n",
       "      <td>4</td>\n",
       "    </tr>\n",
       "    <tr>\n",
       "      <th>11</th>\n",
       "      <td>00:00:11</td>\n",
       "      <td>6</td>\n",
       "    </tr>\n",
       "    <tr>\n",
       "      <th>12</th>\n",
       "      <td>00:00:12</td>\n",
       "      <td>13</td>\n",
       "    </tr>\n",
       "    <tr>\n",
       "      <th>13</th>\n",
       "      <td>00:00:13</td>\n",
       "      <td>3</td>\n",
       "    </tr>\n",
       "    <tr>\n",
       "      <th>14</th>\n",
       "      <td>00:00:14</td>\n",
       "      <td>2</td>\n",
       "    </tr>\n",
       "    <tr>\n",
       "      <th>15</th>\n",
       "      <td>00:00:15</td>\n",
       "      <td>5</td>\n",
       "    </tr>\n",
       "    <tr>\n",
       "      <th>16</th>\n",
       "      <td>00:00:16</td>\n",
       "      <td>4</td>\n",
       "    </tr>\n",
       "    <tr>\n",
       "      <th>17</th>\n",
       "      <td>00:00:17</td>\n",
       "      <td>4</td>\n",
       "    </tr>\n",
       "    <tr>\n",
       "      <th>18</th>\n",
       "      <td>00:00:18</td>\n",
       "      <td>3</td>\n",
       "    </tr>\n",
       "    <tr>\n",
       "      <th>19</th>\n",
       "      <td>00:00:19</td>\n",
       "      <td>5</td>\n",
       "    </tr>\n",
       "    <tr>\n",
       "      <th>20</th>\n",
       "      <td>00:00:20</td>\n",
       "      <td>1</td>\n",
       "    </tr>\n",
       "    <tr>\n",
       "      <th>21</th>\n",
       "      <td>00:00:21</td>\n",
       "      <td>5</td>\n",
       "    </tr>\n",
       "    <tr>\n",
       "      <th>22</th>\n",
       "      <td>00:00:22</td>\n",
       "      <td>9</td>\n",
       "    </tr>\n",
       "    <tr>\n",
       "      <th>23</th>\n",
       "      <td>00:00:23</td>\n",
       "      <td>7</td>\n",
       "    </tr>\n",
       "    <tr>\n",
       "      <th>24</th>\n",
       "      <td>00:00:24</td>\n",
       "      <td>7</td>\n",
       "    </tr>\n",
       "    <tr>\n",
       "      <th>25</th>\n",
       "      <td>00:00:25</td>\n",
       "      <td>4</td>\n",
       "    </tr>\n",
       "    <tr>\n",
       "      <th>26</th>\n",
       "      <td>00:00:26</td>\n",
       "      <td>1</td>\n",
       "    </tr>\n",
       "    <tr>\n",
       "      <th>27</th>\n",
       "      <td>00:00:27</td>\n",
       "      <td>2</td>\n",
       "    </tr>\n",
       "    <tr>\n",
       "      <th>28</th>\n",
       "      <td>00:00:28</td>\n",
       "      <td>2</td>\n",
       "    </tr>\n",
       "    <tr>\n",
       "      <th>29</th>\n",
       "      <td>00:00:29</td>\n",
       "      <td>7</td>\n",
       "    </tr>\n",
       "    <tr>\n",
       "      <th>...</th>\n",
       "      <td>...</td>\n",
       "      <td>...</td>\n",
       "    </tr>\n",
       "    <tr>\n",
       "      <th>470</th>\n",
       "      <td>00:58:50</td>\n",
       "      <td>2</td>\n",
       "    </tr>\n",
       "    <tr>\n",
       "      <th>471</th>\n",
       "      <td>00:58:52</td>\n",
       "      <td>1</td>\n",
       "    </tr>\n",
       "    <tr>\n",
       "      <th>472</th>\n",
       "      <td>00:58:55</td>\n",
       "      <td>2</td>\n",
       "    </tr>\n",
       "    <tr>\n",
       "      <th>473</th>\n",
       "      <td>00:58:56</td>\n",
       "      <td>2</td>\n",
       "    </tr>\n",
       "    <tr>\n",
       "      <th>474</th>\n",
       "      <td>00:58:57</td>\n",
       "      <td>1</td>\n",
       "    </tr>\n",
       "    <tr>\n",
       "      <th>475</th>\n",
       "      <td>00:59:02</td>\n",
       "      <td>5</td>\n",
       "    </tr>\n",
       "    <tr>\n",
       "      <th>476</th>\n",
       "      <td>00:59:07</td>\n",
       "      <td>3</td>\n",
       "    </tr>\n",
       "    <tr>\n",
       "      <th>477</th>\n",
       "      <td>00:59:09</td>\n",
       "      <td>1</td>\n",
       "    </tr>\n",
       "    <tr>\n",
       "      <th>478</th>\n",
       "      <td>00:59:10</td>\n",
       "      <td>1</td>\n",
       "    </tr>\n",
       "    <tr>\n",
       "      <th>479</th>\n",
       "      <td>00:59:13</td>\n",
       "      <td>1</td>\n",
       "    </tr>\n",
       "    <tr>\n",
       "      <th>480</th>\n",
       "      <td>00:59:14</td>\n",
       "      <td>4</td>\n",
       "    </tr>\n",
       "    <tr>\n",
       "      <th>481</th>\n",
       "      <td>00:59:18</td>\n",
       "      <td>1</td>\n",
       "    </tr>\n",
       "    <tr>\n",
       "      <th>482</th>\n",
       "      <td>00:59:19</td>\n",
       "      <td>1</td>\n",
       "    </tr>\n",
       "    <tr>\n",
       "      <th>483</th>\n",
       "      <td>00:59:25</td>\n",
       "      <td>1</td>\n",
       "    </tr>\n",
       "    <tr>\n",
       "      <th>484</th>\n",
       "      <td>00:59:26</td>\n",
       "      <td>2</td>\n",
       "    </tr>\n",
       "    <tr>\n",
       "      <th>485</th>\n",
       "      <td>00:59:30</td>\n",
       "      <td>3</td>\n",
       "    </tr>\n",
       "    <tr>\n",
       "      <th>486</th>\n",
       "      <td>00:59:37</td>\n",
       "      <td>3</td>\n",
       "    </tr>\n",
       "    <tr>\n",
       "      <th>487</th>\n",
       "      <td>00:59:40</td>\n",
       "      <td>1</td>\n",
       "    </tr>\n",
       "    <tr>\n",
       "      <th>488</th>\n",
       "      <td>00:59:41</td>\n",
       "      <td>1</td>\n",
       "    </tr>\n",
       "    <tr>\n",
       "      <th>489</th>\n",
       "      <td>00:59:43</td>\n",
       "      <td>1</td>\n",
       "    </tr>\n",
       "    <tr>\n",
       "      <th>490</th>\n",
       "      <td>00:59:46</td>\n",
       "      <td>1</td>\n",
       "    </tr>\n",
       "    <tr>\n",
       "      <th>491</th>\n",
       "      <td>00:59:47</td>\n",
       "      <td>1</td>\n",
       "    </tr>\n",
       "    <tr>\n",
       "      <th>492</th>\n",
       "      <td>00:59:48</td>\n",
       "      <td>3</td>\n",
       "    </tr>\n",
       "    <tr>\n",
       "      <th>493</th>\n",
       "      <td>00:59:49</td>\n",
       "      <td>1</td>\n",
       "    </tr>\n",
       "    <tr>\n",
       "      <th>494</th>\n",
       "      <td>00:59:52</td>\n",
       "      <td>3</td>\n",
       "    </tr>\n",
       "    <tr>\n",
       "      <th>495</th>\n",
       "      <td>00:59:53</td>\n",
       "      <td>3</td>\n",
       "    </tr>\n",
       "    <tr>\n",
       "      <th>496</th>\n",
       "      <td>00:59:54</td>\n",
       "      <td>4</td>\n",
       "    </tr>\n",
       "    <tr>\n",
       "      <th>497</th>\n",
       "      <td>00:59:56</td>\n",
       "      <td>3</td>\n",
       "    </tr>\n",
       "    <tr>\n",
       "      <th>498</th>\n",
       "      <td>00:59:57</td>\n",
       "      <td>1</td>\n",
       "    </tr>\n",
       "    <tr>\n",
       "      <th>499</th>\n",
       "      <td>00:59:59</td>\n",
       "      <td>8</td>\n",
       "    </tr>\n",
       "  </tbody>\n",
       "</table>\n",
       "<p>500 rows × 2 columns</p>\n",
       "</div>"
      ],
      "text/plain": [
       "     time_diff    0\n",
       "0     00:00:00  975\n",
       "1     00:00:01   87\n",
       "2     00:00:02    7\n",
       "3     00:00:03    6\n",
       "4     00:00:04    8\n",
       "5     00:00:05   13\n",
       "6     00:00:06   15\n",
       "7     00:00:07   12\n",
       "8     00:00:08    4\n",
       "9     00:00:09    1\n",
       "10    00:00:10    4\n",
       "11    00:00:11    6\n",
       "12    00:00:12   13\n",
       "13    00:00:13    3\n",
       "14    00:00:14    2\n",
       "15    00:00:15    5\n",
       "16    00:00:16    4\n",
       "17    00:00:17    4\n",
       "18    00:00:18    3\n",
       "19    00:00:19    5\n",
       "20    00:00:20    1\n",
       "21    00:00:21    5\n",
       "22    00:00:22    9\n",
       "23    00:00:23    7\n",
       "24    00:00:24    7\n",
       "25    00:00:25    4\n",
       "26    00:00:26    1\n",
       "27    00:00:27    2\n",
       "28    00:00:28    2\n",
       "29    00:00:29    7\n",
       "..         ...  ...\n",
       "470   00:58:50    2\n",
       "471   00:58:52    1\n",
       "472   00:58:55    2\n",
       "473   00:58:56    2\n",
       "474   00:58:57    1\n",
       "475   00:59:02    5\n",
       "476   00:59:07    3\n",
       "477   00:59:09    1\n",
       "478   00:59:10    1\n",
       "479   00:59:13    1\n",
       "480   00:59:14    4\n",
       "481   00:59:18    1\n",
       "482   00:59:19    1\n",
       "483   00:59:25    1\n",
       "484   00:59:26    2\n",
       "485   00:59:30    3\n",
       "486   00:59:37    3\n",
       "487   00:59:40    1\n",
       "488   00:59:41    1\n",
       "489   00:59:43    1\n",
       "490   00:59:46    1\n",
       "491   00:59:47    1\n",
       "492   00:59:48    3\n",
       "493   00:59:49    1\n",
       "494   00:59:52    3\n",
       "495   00:59:53    3\n",
       "496   00:59:54    4\n",
       "497   00:59:56    3\n",
       "498   00:59:57    1\n",
       "499   00:59:59    8\n",
       "\n",
       "[500 rows x 2 columns]"
      ]
     },
     "execution_count": 162,
     "metadata": {},
     "output_type": "execute_result"
    }
   ],
   "source": [
    "gp"
   ]
  },
  {
   "cell_type": "code",
   "execution_count": 171,
   "metadata": {
    "collapsed": false
   },
   "outputs": [
    {
     "data": {
      "text/plain": [
       "'\\nplt.subplot(224)\\n# filter out time_diff = 0 & time_diff = 1\\n# plot out log(counts)\\nplt.plot( log(gp[0][2:]))\\nplt.xticks([])\\n'"
      ]
     },
     "execution_count": 171,
     "metadata": {},
     "output_type": "execute_result"
    },
    {
     "data": {
      "image/png": "[encoded data removed]",
      "text/plain": [
       "<matplotlib.figure.Figure at 0x12c2d4150>"
      ]
     },
     "metadata": {},
     "output_type": "display_data"
    }
   ],
   "source": [
    "# scatter plot it\n",
    "import matplotlib.pyplot as plt\n",
    "plt.figure(figsize=[10,30])\n",
    "\n",
    "\n",
    "plt.subplot(311)\n",
    "# filter out time_diff = 0\n",
    "plt.scatter(range(len(gp)-1), gp[0][1:], s=2, label = 'count')\n",
    "plt.plot([m] * (len(gp)-2), c = 'r', label = 'mean')\n",
    "plt.xticks([])\n",
    "plt.legend()\n",
    "\n",
    "plt.subplot(312)\n",
    "# filter out time_diff = 0 & time_diff = 1\n",
    "plt.scatter(range(len(gp)-2), gp[0][2:], s=2, label = 'count')\n",
    "plt.plot([m] * (len(gp)-2), c = 'r', label = 'mean')\n",
    "plt.xticks([])\n",
    "plt.legend()\n",
    "\n",
    "plt.subplot(313)\n",
    "# filter out time_diff = 0 & time_diff = 1\n",
    "# plot out log(counts)\n",
    "plt.scatter(range(len(gp)-2), log(gp[0][2:]), s=2, label = 'count')\n",
    "plt.plot([log(m)] * (len(gp)-2), c = 'r', label = 'log mean')\n",
    "plt.xticks([])\n",
    "plt.legend()\n",
    "\n",
    "'''\n",
    "plt.subplot(224)\n",
    "# filter out time_diff = 0 & time_diff = 1\n",
    "# plot out log(counts)\n",
    "plt.plot( log(gp[0][2:]))\n",
    "plt.xticks([])\n",
    "'''"
   ]
  },
  {
   "cell_type": "markdown",
   "metadata": {},
   "source": [
    "## filter out multi clients networks \n",
    "## make viz nicer \n",
    "## Frequency? proxy for distance \n",
    " "
   ]
  }
 ],
 "metadata": {
  "anaconda-cloud": {},
  "kernelspec": {
   "display_name": "Python [Root]",
   "language": "python",
   "name": "Python [Root]"
  },
  "language_info": {
   "codemirror_mode": {
    "name": "ipython",
    "version": 2
   },
   "file_extension": ".py",
   "mimetype": "text/x-python",
   "name": "python",
   "nbconvert_exporter": "python",
   "pygments_lexer": "ipython2",
   "version": "2.7.13"
  }
 },
 "nbformat": 4,
 "nbformat_minor": 0
}
