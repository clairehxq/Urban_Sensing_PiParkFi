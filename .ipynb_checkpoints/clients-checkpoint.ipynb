{
 "cells": [
  {
   "cell_type": "code",
   "execution_count": 1,
   "metadata": {
    "collapsed": true
   },
   "outputs": [],
   "source": [
    "import pandas as pd\n",
    "from itertools import islice"
   ]
  },
  {
   "cell_type": "code",
   "execution_count": 2,
   "metadata": {
    "collapsed": false
   },
   "outputs": [],
   "source": [
    "source = 'data/820Metrotech_test.txt'\n",
    "clients = []\n",
    "with open(source, 'r') as f:\n",
    "    for client in f:\n",
    "        if 'Client' in client:\n",
    "            client = client.replace(':',';',1)\n",
    "            n3 = (islice(f, 3))\n",
    "            for n in n3:\n",
    "                if 'First' in n:\n",
    "                    f = n\n",
    "                if 'Last' in n:\n",
    "                    l = n\n",
    "            clients.append(client+';'+f+';'+l)"
   ]
  },
  {
   "cell_type": "code",
   "execution_count": 3,
   "metadata": {
    "collapsed": false
   },
   "outputs": [],
   "source": [
    "df = pd.DataFrame(columns=['client', 'MAC','first','last'])"
   ]
  },
  {
   "cell_type": "code",
   "execution_count": 4,
   "metadata": {
    "collapsed": false
   },
   "outputs": [],
   "source": [
    "## Add Clients to dataframe\n",
    "for client in clients:\n",
    "    df = df.append(pd.Series(client.split(';'), index=['client','MAC','first','last']), ignore_index=True)"
   ]
  },
  {
   "cell_type": "code",
   "execution_count": 5,
   "metadata": {
    "collapsed": false
   },
   "outputs": [
    {
     "data": {
      "text/html": [
       "<div>\n",
       "<table border=\"1\" class=\"dataframe\">\n",
       "  <thead>\n",
       "    <tr style=\"text-align: right;\">\n",
       "      <th></th>\n",
       "      <th>client</th>\n",
       "      <th>MAC</th>\n",
       "      <th>first</th>\n",
       "      <th>last</th>\n",
       "    </tr>\n",
       "  </thead>\n",
       "  <tbody>\n",
       "    <tr>\n",
       "      <th>0</th>\n",
       "      <td>Client 1</td>\n",
       "      <td>MAC 00:00:00:00:00:00\\n</td>\n",
       "      <td>First      : Tue Apr 18 18:28:36 2017\\n</td>\n",
       "      <td>Last       : Tue Apr 18 19:48:04 2017\\n</td>\n",
       "    </tr>\n",
       "    <tr>\n",
       "      <th>1</th>\n",
       "      <td>Client 1</td>\n",
       "      <td>MAC B0:70:2D:7E:C5:53\\n</td>\n",
       "      <td>First      : Tue Apr 18 18:28:36 2017\\n</td>\n",
       "      <td>Last       : Tue Apr 18 19:48:04 2017\\n</td>\n",
       "    </tr>\n",
       "    <tr>\n",
       "      <th>2</th>\n",
       "      <td>Client 1</td>\n",
       "      <td>MAC 00:03:7F:00:00:00\\n</td>\n",
       "      <td>First      : Tue Apr 18 18:28:36 2017\\n</td>\n",
       "      <td>Last       : Tue Apr 18 19:48:04 2017\\n</td>\n",
       "    </tr>\n",
       "    <tr>\n",
       "      <th>3</th>\n",
       "      <td>Client 1</td>\n",
       "      <td>MAC 00:04:20:F3:E1:10\\n</td>\n",
       "      <td>First      : Tue Apr 18 18:28:36 2017\\n</td>\n",
       "      <td>Last       : Tue Apr 18 19:48:04 2017\\n</td>\n",
       "    </tr>\n",
       "    <tr>\n",
       "      <th>4</th>\n",
       "      <td>Client 1</td>\n",
       "      <td>MAC 00:04:4B:2F:66:A2\\n</td>\n",
       "      <td>First      : Tue Apr 18 18:28:36 2017\\n</td>\n",
       "      <td>Last       : Tue Apr 18 19:48:04 2017\\n</td>\n",
       "    </tr>\n",
       "    <tr>\n",
       "      <th>5</th>\n",
       "      <td>Client 1</td>\n",
       "      <td>MAC 00:0A:E2:16:BC:2A\\n</td>\n",
       "      <td>First      : Tue Apr 18 18:28:36 2017\\n</td>\n",
       "      <td>Last       : Tue Apr 18 19:48:04 2017\\n</td>\n",
       "    </tr>\n",
       "    <tr>\n",
       "      <th>6</th>\n",
       "      <td>Client 1</td>\n",
       "      <td>MAC 00:0A:F5:01:B9:D4\\n</td>\n",
       "      <td>First      : Tue Apr 18 18:28:36 2017\\n</td>\n",
       "      <td>Last       : Tue Apr 18 19:48:04 2017\\n</td>\n",
       "    </tr>\n",
       "    <tr>\n",
       "      <th>7</th>\n",
       "      <td>Client 1</td>\n",
       "      <td>MAC 00:11:D9:15:73:6C\\n</td>\n",
       "      <td>First      : Tue Apr 18 18:28:36 2017\\n</td>\n",
       "      <td>Last       : Tue Apr 18 19:48:04 2017\\n</td>\n",
       "    </tr>\n",
       "    <tr>\n",
       "      <th>8</th>\n",
       "      <td>Client 1</td>\n",
       "      <td>MAC 00:17:F2:96:6B:6C\\n</td>\n",
       "      <td>First      : Tue Apr 18 18:28:36 2017\\n</td>\n",
       "      <td>Last       : Tue Apr 18 19:48:04 2017\\n</td>\n",
       "    </tr>\n",
       "    <tr>\n",
       "      <th>9</th>\n",
       "      <td>Client 1</td>\n",
       "      <td>MAC 00:19:9D:DE:83:C8\\n</td>\n",
       "      <td>First      : Tue Apr 18 18:28:36 2017\\n</td>\n",
       "      <td>Last       : Tue Apr 18 19:48:04 2017\\n</td>\n",
       "    </tr>\n",
       "  </tbody>\n",
       "</table>\n",
       "</div>"
      ],
      "text/plain": [
       "      client                       MAC  \\\n",
       "0   Client 1   MAC 00:00:00:00:00:00\\n   \n",
       "1   Client 1   MAC B0:70:2D:7E:C5:53\\n   \n",
       "2   Client 1   MAC 00:03:7F:00:00:00\\n   \n",
       "3   Client 1   MAC 00:04:20:F3:E1:10\\n   \n",
       "4   Client 1   MAC 00:04:4B:2F:66:A2\\n   \n",
       "5   Client 1   MAC 00:0A:E2:16:BC:2A\\n   \n",
       "6   Client 1   MAC 00:0A:F5:01:B9:D4\\n   \n",
       "7   Client 1   MAC 00:11:D9:15:73:6C\\n   \n",
       "8   Client 1   MAC 00:17:F2:96:6B:6C\\n   \n",
       "9   Client 1   MAC 00:19:9D:DE:83:C8\\n   \n",
       "\n",
       "                                       first  \\\n",
       "0    First      : Tue Apr 18 18:28:36 2017\\n   \n",
       "1    First      : Tue Apr 18 18:28:36 2017\\n   \n",
       "2    First      : Tue Apr 18 18:28:36 2017\\n   \n",
       "3    First      : Tue Apr 18 18:28:36 2017\\n   \n",
       "4    First      : Tue Apr 18 18:28:36 2017\\n   \n",
       "5    First      : Tue Apr 18 18:28:36 2017\\n   \n",
       "6    First      : Tue Apr 18 18:28:36 2017\\n   \n",
       "7    First      : Tue Apr 18 18:28:36 2017\\n   \n",
       "8    First      : Tue Apr 18 18:28:36 2017\\n   \n",
       "9    First      : Tue Apr 18 18:28:36 2017\\n   \n",
       "\n",
       "                                        last  \n",
       "0    Last       : Tue Apr 18 19:48:04 2017\\n  \n",
       "1    Last       : Tue Apr 18 19:48:04 2017\\n  \n",
       "2    Last       : Tue Apr 18 19:48:04 2017\\n  \n",
       "3    Last       : Tue Apr 18 19:48:04 2017\\n  \n",
       "4    Last       : Tue Apr 18 19:48:04 2017\\n  \n",
       "5    Last       : Tue Apr 18 19:48:04 2017\\n  \n",
       "6    Last       : Tue Apr 18 19:48:04 2017\\n  \n",
       "7    Last       : Tue Apr 18 19:48:04 2017\\n  \n",
       "8    Last       : Tue Apr 18 19:48:04 2017\\n  \n",
       "9    Last       : Tue Apr 18 19:48:04 2017\\n  "
      ]
     },
     "execution_count": 5,
     "metadata": {},
     "output_type": "execute_result"
    }
   ],
   "source": [
    "df.head(10)"
   ]
  },
  {
   "cell_type": "code",
   "execution_count": 6,
   "metadata": {
    "collapsed": false
   },
   "outputs": [],
   "source": [
    "## Clean up MACA Address column\n",
    "df.MAC = df.MAC.str.replace('MAC ' , '')\n",
    "df.MAC = df.MAC.str.replace(r'\\n','')\n",
    "df['first'] = df['first'].str.replace(' First      : ' , '')\n",
    "df['first'] = df['first'].str.replace(r'\\n','')\n",
    "df['last'] = df['last'].str.replace(' Last       : ' , '')\n",
    "df['last'] = df['last'].str.replace(r'\\n','')"
   ]
  },
  {
   "cell_type": "code",
   "execution_count": 7,
   "metadata": {
    "collapsed": false
   },
   "outputs": [
    {
     "data": {
      "text/plain": [
       "0     00:00:00:00:00:00\n",
       "1     B0:70:2D:7E:C5:53\n",
       "2     00:03:7F:00:00:00\n",
       "3     00:04:20:F3:E1:10\n",
       "4     00:04:4B:2F:66:A2\n",
       "Name: MAC, dtype: object"
      ]
     },
     "execution_count": 7,
     "metadata": {},
     "output_type": "execute_result"
    }
   ],
   "source": [
    "df.MAC.head()"
   ]
  },
  {
   "cell_type": "code",
   "execution_count": 8,
   "metadata": {
    "collapsed": false
   },
   "outputs": [
    {
     "data": {
      "text/plain": [
       "0     Tue Apr 18 19:48:04 2017\n",
       "1     Tue Apr 18 19:48:04 2017\n",
       "2     Tue Apr 18 19:48:04 2017\n",
       "3     Tue Apr 18 19:48:04 2017\n",
       "4     Tue Apr 18 19:48:04 2017\n",
       "Name: last, dtype: object"
      ]
     },
     "execution_count": 8,
     "metadata": {},
     "output_type": "execute_result"
    }
   ],
   "source": [
    "df['last'].head()"
   ]
  },
  {
   "cell_type": "code",
   "execution_count": 9,
   "metadata": {
    "collapsed": false
   },
   "outputs": [
    {
     "data": {
      "text/plain": [
       "1"
      ]
     },
     "execution_count": 9,
     "metadata": {},
     "output_type": "execute_result"
    }
   ],
   "source": [
    "num_first = df['first'].unique()\n",
    "len(num_first)"
   ]
  },
  {
   "cell_type": "code",
   "execution_count": 10,
   "metadata": {
    "collapsed": false
   },
   "outputs": [
    {
     "data": {
      "text/plain": [
       "1"
      ]
     },
     "execution_count": 10,
     "metadata": {},
     "output_type": "execute_result"
    }
   ],
   "source": [
    "num_last = df['last'].unique()\n",
    "# df['last'].value_counts()\n",
    "len(num_last)"
   ]
  },
  {
   "cell_type": "code",
   "execution_count": 11,
   "metadata": {
    "collapsed": false
   },
   "outputs": [
    {
     "data": {
      "text/plain": [
       "1162"
      ]
     },
     "execution_count": 11,
     "metadata": {},
     "output_type": "execute_result"
    }
   ],
   "source": [
    "## Get the number of Unique MAC addresses\n",
    "num_macs = df.MAC.unique()\n",
    "len(num_macs)"
   ]
  },
  {
   "cell_type": "code",
   "execution_count": 12,
   "metadata": {
    "collapsed": false
   },
   "outputs": [
    {
     "data": {
      "text/plain": [
       " 78:4F:43:75:0E:7C    9\n",
       " 58:BF:EA:BF:1E:40    8\n",
       " 68:64:4B:D8:DA:42    4\n",
       " 40:40:A7:93:77:64    4\n",
       " 30:E4:DB:39:47:2F    3\n",
       " 2C:F0:A2:1E:D0:34    3\n",
       " 2C:20:0B:B8:59:8F    3\n",
       " 14:22:DB:16:37:2E    3\n",
       " A0:99:9B:04:52:8D    3\n",
       " 00:00:5E:00:01:53    3\n",
       " 10:AE:60:6D:FF:7F    3\n",
       " 64:9A:BE:E3:43:AE    3\n",
       " 14:22:DB:26:B0:0E    3\n",
       " DC:0C:5C:94:B2:E2    3\n",
       " 58:1F:AA:43:F0:9A    3\n",
       " 90:C7:D8:8A:69:C8    3\n",
       " A0:99:9B:41:65:AD    3\n",
       " E8:2A:EA:46:21:C0    3\n",
       " 5C:AF:06:82:ED:F6    3\n",
       " F8:BB:BF:80:29:BC    3\n",
       " 48:45:20:C4:42:D5    3\n",
       " 70:10:5C:B1:E1:80    3\n",
       " 8C:2D:AA:35:A9:8F    2\n",
       " 5C:E0:C5:4B:CF:30    2\n",
       " 3C:15:C2:D7:0D:DC    2\n",
       " C8:69:CD:B2:0A:94    2\n",
       " 18:65:90:12:9A:57    2\n",
       " B0:70:2D:7E:C5:53    2\n",
       " 98:5F:D3:51:94:D8    2\n",
       " AC:5F:3E:7D:4B:3C    2\n",
       "                     ..\n",
       " C0:56:27:6C:80:A3    1\n",
       " D2:64:35:9E:E0:83    1\n",
       " 14:22:DB:16:37:28    1\n",
       " 2C:F0:EE:28:4D:3A    1\n",
       " 90:B6:86:15:DB:7D    1\n",
       " C4:B3:01:C6:7B:D9    1\n",
       " BC:9F:EF:C3:37:39    1\n",
       " 60:F8:1D:C4:7F:7C    1\n",
       " AC:37:43:A1:EE:BE    1\n",
       " 90:B6:86:73:8B:42    1\n",
       " 00:26:62:BF:D7:9B    1\n",
       " 60:F1:89:69:F0:11    1\n",
       " 1A:69:05:3E:38:6D    1\n",
       " E0:AC:CB:67:ED:52    1\n",
       " 2C:F0:EE:22:E0:C2    1\n",
       " 56:81:0B:9E:5C:65    1\n",
       " 3C:15:C2:D9:3C:98    1\n",
       " C0:EE:FB:26:A0:FF    1\n",
       " 00:80:77:DC:54:F7    1\n",
       " DA:A1:19:CA:85:0F    1\n",
       " 5C:AF:06:57:44:FA    1\n",
       " DA:A1:19:C7:C6:9F    1\n",
       " BC:6C:21:C6:77:29    1\n",
       " 48:A9:D2:E1:45:E1    1\n",
       " 4C:8B:30:9A:58:31    1\n",
       " E6:E5:2F:21:63:00    1\n",
       " CA:A0:A5:66:12:57    1\n",
       " B8:78:2E:07:EC:27    1\n",
       " 08:66:98:CB:38:80    1\n",
       " 68:A8:6D:48:F2:9C    1\n",
       "Name: MAC, dtype: int64"
      ]
     },
     "execution_count": 12,
     "metadata": {},
     "output_type": "execute_result"
    }
   ],
   "source": [
    "## MAC addresses and the number of times they appear in the log\n",
    "df.MAC.value_counts()"
   ]
  },
  {
   "cell_type": "code",
   "execution_count": null,
   "metadata": {
    "collapsed": true
   },
   "outputs": [],
   "source": []
  },
  {
   "cell_type": "code",
   "execution_count": null,
   "metadata": {
    "collapsed": true
   },
   "outputs": [],
   "source": []
  }
 ],
 "metadata": {
  "anaconda-cloud": {},
  "kernelspec": {
   "display_name": "Python [Root]",
   "language": "python",
   "name": "Python [Root]"
  },
  "language_info": {
   "codemirror_mode": {
    "name": "ipython",
    "version": 3
   },
   "file_extension": ".py",
   "mimetype": "text/x-python",
   "name": "python",
   "nbconvert_exporter": "python",
   "pygments_lexer": "ipython3",
   "version": "3.5.2"
  }
 },
 "nbformat": 4,
 "nbformat_minor": 0
}
