{
 "cells": [
  {
   "cell_type": "code",
   "execution_count": 1,
   "metadata": {
    "collapsed": true
   },
   "outputs": [],
   "source": [
    "import pandas as pd"
   ]
  },
  {
   "cell_type": "code",
   "execution_count": 2,
   "metadata": {
    "collapsed": false
   },
   "outputs": [],
   "source": [
    "## Read in Clients from nettxt file\n",
    "def client_finder(file):\n",
    "    for line in file:\n",
    "        if 'Client' in line:\n",
    "             yield line\n",
    "\n",
    "source = open('data/Kismet-20170402-20-33-58-1-Copy1.txt','r')\n",
    "\n",
    "clients = client_finder(source)"
   ]
  },
  {
   "cell_type": "code",
   "execution_count": 3,
   "metadata": {
    "collapsed": false
   },
   "outputs": [],
   "source": [
    "df = pd.DataFrame(columns=['client', 'MAC'])"
   ]
  },
  {
   "cell_type": "code",
   "execution_count": 4,
   "metadata": {
    "collapsed": false
   },
   "outputs": [],
   "source": [
    "## Add Clients to dataframe\n",
    "for x in clients:\n",
    "    df = df.append(pd.Series(x.split(':',1), index=['client','MAC']), ignore_index=True)"
   ]
  },
  {
   "cell_type": "code",
   "execution_count": 5,
   "metadata": {
    "collapsed": false
   },
   "outputs": [
    {
     "data": {
      "text/html": [
       "<div>\n",
       "<table border=\"1\" class=\"dataframe\">\n",
       "  <thead>\n",
       "    <tr style=\"text-align: right;\">\n",
       "      <th></th>\n",
       "      <th>client</th>\n",
       "      <th>MAC</th>\n",
       "    </tr>\n",
       "  </thead>\n",
       "  <tbody>\n",
       "    <tr>\n",
       "      <th>0</th>\n",
       "      <td>Client 1</td>\n",
       "      <td>MAC 00:00:00:00:00:00\\n</td>\n",
       "    </tr>\n",
       "    <tr>\n",
       "      <th>1</th>\n",
       "      <td>Client 1</td>\n",
       "      <td>MAC 00:0E:58:E0:9D:99\\n</td>\n",
       "    </tr>\n",
       "    <tr>\n",
       "      <th>2</th>\n",
       "      <td>Client 1</td>\n",
       "      <td>MAC 00:13:EF:80:14:7F\\n</td>\n",
       "    </tr>\n",
       "    <tr>\n",
       "      <th>3</th>\n",
       "      <td>Client 1</td>\n",
       "      <td>MAC 00:1A:4D:3E:25:04\\n</td>\n",
       "    </tr>\n",
       "    <tr>\n",
       "      <th>4</th>\n",
       "      <td>Client 1</td>\n",
       "      <td>MAC 00:1D:7D:4B:61:35\\n</td>\n",
       "    </tr>\n",
       "    <tr>\n",
       "      <th>5</th>\n",
       "      <td>Client 1</td>\n",
       "      <td>MAC 00:30:44:15:FA:5D\\n</td>\n",
       "    </tr>\n",
       "    <tr>\n",
       "      <th>6</th>\n",
       "      <td>Client 1</td>\n",
       "      <td>MAC 00:34:DA:12:3E:46\\n</td>\n",
       "    </tr>\n",
       "    <tr>\n",
       "      <th>7</th>\n",
       "      <td>Client 1</td>\n",
       "      <td>MAC 00:34:DA:92:A0:19\\n</td>\n",
       "    </tr>\n",
       "    <tr>\n",
       "      <th>8</th>\n",
       "      <td>Client 1</td>\n",
       "      <td>MAC 00:87:01:24:06:D9\\n</td>\n",
       "    </tr>\n",
       "    <tr>\n",
       "      <th>9</th>\n",
       "      <td>Client 1</td>\n",
       "      <td>MAC 00:A0:0A:AA:6A:3D\\n</td>\n",
       "    </tr>\n",
       "  </tbody>\n",
       "</table>\n",
       "</div>"
      ],
      "text/plain": [
       "      client                       MAC\n",
       "0   Client 1   MAC 00:00:00:00:00:00\\n\n",
       "1   Client 1   MAC 00:0E:58:E0:9D:99\\n\n",
       "2   Client 1   MAC 00:13:EF:80:14:7F\\n\n",
       "3   Client 1   MAC 00:1A:4D:3E:25:04\\n\n",
       "4   Client 1   MAC 00:1D:7D:4B:61:35\\n\n",
       "5   Client 1   MAC 00:30:44:15:FA:5D\\n\n",
       "6   Client 1   MAC 00:34:DA:12:3E:46\\n\n",
       "7   Client 1   MAC 00:34:DA:92:A0:19\\n\n",
       "8   Client 1   MAC 00:87:01:24:06:D9\\n\n",
       "9   Client 1   MAC 00:A0:0A:AA:6A:3D\\n"
      ]
     },
     "execution_count": 5,
     "metadata": {},
     "output_type": "execute_result"
    }
   ],
   "source": [
    "df.head(10)"
   ]
  },
  {
   "cell_type": "code",
   "execution_count": 6,
   "metadata": {
    "collapsed": false
   },
   "outputs": [],
   "source": [
    "## Clean up MACA Address column\n",
    "df.MAC = df.MAC.str.replace('MAC ' , '')\n",
    "df.MAC = df.MAC.str.replace(r'\\n','')"
   ]
  },
  {
   "cell_type": "code",
   "execution_count": 7,
   "metadata": {
    "collapsed": false
   },
   "outputs": [
    {
     "data": {
      "text/plain": [
       "0     00:00:00:00:00:00\n",
       "1     00:0E:58:E0:9D:99\n",
       "2     00:13:EF:80:14:7F\n",
       "3     00:1A:4D:3E:25:04\n",
       "4     00:1D:7D:4B:61:35\n",
       "Name: MAC, dtype: object"
      ]
     },
     "execution_count": 7,
     "metadata": {},
     "output_type": "execute_result"
    }
   ],
   "source": [
    "df.MAC.head()"
   ]
  },
  {
   "cell_type": "code",
   "execution_count": 10,
   "metadata": {
    "collapsed": false
   },
   "outputs": [
    {
     "data": {
      "text/plain": [
       "327"
      ]
     },
     "execution_count": 10,
     "metadata": {},
     "output_type": "execute_result"
    }
   ],
   "source": [
    "## Get the number of Unique MAC addresses\n",
    "num_macs = df.MAC.unique()\n",
    "len(num_macs)"
   ]
  },
  {
   "cell_type": "code",
   "execution_count": 11,
   "metadata": {
    "collapsed": false
   },
   "outputs": [
    {
     "data": {
      "text/plain": [
       " B6:25:71:3B:2E:8C    8\n",
       " BC:16:65:D0:04:00    4\n",
       " A4:08:EA:8B:12:22    3\n",
       " 8C:79:67:EC:DA:8B    3\n",
       " BC:16:65:F4:73:00    3\n",
       " 60:E3:AC:E4:8B:24    3\n",
       " E8:50:8B:4D:63:F5    2\n",
       " EC:9B:F3:C6:30:C5    2\n",
       " B0:70:2D:C0:C0:3B    2\n",
       " 8C:F5:A3:31:12:20    2\n",
       " 2C:0E:3D:99:62:9B    2\n",
       " AC:5F:3E:63:D2:CA    2\n",
       " DC:CF:96:C3:0A:40    2\n",
       " E8:50:8B:45:3E:ED    2\n",
       " 58:BF:EA:BF:1E:40    2\n",
       " 50:9E:A7:76:93:FD    2\n",
       " 8C:F5:A3:14:A9:5A    2\n",
       " DC:0B:34:9F:FC:58    2\n",
       " 2C:0E:3D:97:59:3A    2\n",
       " A4:4E:31:1C:50:C4    1\n",
       " CC:D5:39:27:EB:C2    1\n",
       " 06:13:29:47:98:E1    1\n",
       " 8E:4C:12:6E:B3:B9    1\n",
       " DC:CF:96:97:CA:29    1\n",
       " E8:91:20:41:27:5A    1\n",
       " AC:BC:32:C3:92:5B    1\n",
       " CC:D5:39:27:EB:C3    1\n",
       " 84:89:AD:B5:C9:C0    1\n",
       " E4:F4:C6:05:B6:E1    1\n",
       " 88:66:A5:B9:71:06    1\n",
       "                     ..\n",
       " 30:CD:A7:A8:C6:33    1\n",
       " 6C:AA:B3:28:34:78    1\n",
       " A0:99:9B:0A:1C:87    1\n",
       " 24:C9:A1:CE:44:A8    1\n",
       " DA:A1:19:09:D5:D8    1\n",
       " B8:27:EB:68:25:5E    1\n",
       " F0:24:75:B2:B9:2B    1\n",
       " 10:05:CA:53:00:10    1\n",
       " 84:11:9E:7E:D9:D6    1\n",
       " 00:AE:FA:47:B4:38    1\n",
       " 2C:59:8A:01:53:96    1\n",
       " 52:BC:A5:44:C1:07    1\n",
       " 48:51:B7:AF:89:D0    1\n",
       " CC:D5:39:27:EB:B2    1\n",
       " DA:A1:19:0E:FC:9F    1\n",
       " 24:C9:A1:B8:B7:58    1\n",
       " AC:5F:3E:EB:7E:27    1\n",
       " 02:55:C6:5A:C9:E8    1\n",
       " 00:A0:0A:AA:6A:3D    1\n",
       " 3E:65:C8:B5:ED:87    1\n",
       " 18:21:95:31:96:D7    1\n",
       " 8C:F5:A3:3E:43:8C    1\n",
       " 16:EF:9C:98:C3:85    1\n",
       " 84:A1:34:9C:31:99    1\n",
       " CC:D5:39:64:13:23    1\n",
       " F4:42:8F:71:E8:13    1\n",
       " 00:C0:EE:7A:B4:E9    1\n",
       " 08:6D:41:C8:BA:3A    1\n",
       " 10:08:B1:A1:10:6D    1\n",
       " 68:B5:99:8A:1D:FC    1\n",
       "Name: MAC, dtype: int64"
      ]
     },
     "execution_count": 11,
     "metadata": {},
     "output_type": "execute_result"
    }
   ],
   "source": [
    "## MAC addresses and the number of times they appear in the log\n",
    "df.MAC.value_counts()"
   ]
  },
  {
   "cell_type": "code",
   "execution_count": null,
   "metadata": {
    "collapsed": true
   },
   "outputs": [],
   "source": []
  }
 ],
 "metadata": {
  "anaconda-cloud": {},
  "kernelspec": {
   "display_name": "Python [Root]",
   "language": "python",
   "name": "Python [Root]"
  },
  "language_info": {
   "codemirror_mode": {
    "name": "ipython",
    "version": 3
   },
   "file_extension": ".py",
   "mimetype": "text/x-python",
   "name": "python",
   "nbconvert_exporter": "python",
   "pygments_lexer": "ipython3",
   "version": "3.5.2"
  }
 },
 "nbformat": 4,
 "nbformat_minor": 0
}
